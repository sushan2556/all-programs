{
 "cells": [
  {
   "cell_type": "code",
   "execution_count": null,
   "id": "60f1353e",
   "metadata": {},
   "outputs": [],
   "source": [
    "import os\n",
    "print(\"Sushant\")\n",
    "os.getcwd()"
   ]
  },
  {
   "cell_type": "code",
   "execution_count": null,
   "id": "1e4d86cf",
   "metadata": {},
   "outputs": [],
   "source": []
  }
 ],
 "metadata": {
  "kernelspec": {
   "display_name": "Python 3 (ipykernel)",
   "language": "python",
   "name": "python3"
  }
 },
 "nbformat": 4,
 "nbformat_minor": 5
}
